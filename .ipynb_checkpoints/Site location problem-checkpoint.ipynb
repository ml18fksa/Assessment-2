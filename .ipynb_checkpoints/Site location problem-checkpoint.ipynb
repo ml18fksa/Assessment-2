{
 "cells": [
  {
   "cell_type": "markdown",
   "metadata": {},
   "source": [
    "# Site location problem\n"
   ]
  },
  {
   "cell_type": "code",
   "execution_count": 2,
   "metadata": {},
   "outputs": [
    {
     "data": {
      "application/vnd.jupyter.widget-view+json": {
       "model_id": "67a2af82f8764d568f680dc01d2ebfc6",
       "version_major": 2,
       "version_minor": 0
      },
      "text/plain": [
       "Button(description='Save', style=ButtonStyle())"
      ]
     },
     "metadata": {},
     "output_type": "display_data"
    },
    {
     "data": {
      "application/vnd.jupyter.widget-view+json": {
       "model_id": "65f2515e4f2149478b80b863af50aeb5",
       "version_major": 2,
       "version_minor": 0
      },
      "text/plain": [
       "interactive(children=(FloatSlider(value=1.0, description='Geology:', max=1.0, min=0.01), FloatSlider(value=0.0…"
      ]
     },
     "metadata": {},
     "output_type": "display_data"
    }
   ],
   "source": [
    "# import functions and classes from the necessary libraries\n",
    "\n",
    "from ipywidgets import Button, FloatSlider, interactive\n",
    "from IPython.display import display\n",
    "import matplotlib.pyplot as plt\n",
    "%matplotlib inline\n",
    "\n",
    "\n",
    "# the declaring an empty matrix for each maps\n",
    "geology = []\n",
    "population = []\n",
    "transport = []\n",
    "weights = []  # declaring an empty matrix for the result map\n",
    "\n",
    "\n",
    "#opening the file of the first map ,reading it line by line and adding each line as a list in the geology matrix\n",
    "with open(\"best.geology\") as file:\n",
    "    for line in file:\n",
    "        geology.append(list(eval(line)))\n",
    "\n",
    "#opening the file of the second map ,reading it line by line and adding each line as a list in the population matrix\n",
    "with open(\"best.pop\") as file:\n",
    "    for line in file:\n",
    "        population.append(list(eval(line)))\n",
    "        \n",
    "#opening the file of the third map ,reading it line by line and adding each line as a list in the transport matrix\n",
    "with open(\"best.mway\") as file:\n",
    "    for line in file:\n",
    "        transport.append(list(eval(line)))\n",
    "\n",
    "        \n",
    "#define a function to update the chart using three parameters         \n",
    "def update_plot(geo, pop, trans):\n",
    "    global weights # reference the global variable weights  \n",
    "    \n",
    "    weights = []  # clear the matrix \n",
    "    y_max = len(geology) # the number of rows (the map hieght)\n",
    "    x_max = len(geology[0])  # the number of colums (the map width)\n",
    "    max_val = (255 * geo) + (255 * pop) + (255 * trans)  # to calculate the maximum possible value \n",
    "    for y in range(y_max):  # building the result map row by row from the values from the other three maps\n",
    "        weights.append([]) # adding new row  \n",
    "\n",
    "        for x in range(x_max):\n",
    "            # calculate the value of point in the result map\n",
    "            w = (geology[y][x] * geo) + (population[y][x] * pop) + (transport[y][x] * trans)\n",
    "            weights[y].append(round(w * 255 / max_val)) # add the value to the map\n",
    "    \n",
    "    \n",
    "    # Display weighted map\n",
    "    plt.figure(figsize=(8,8)) # set the chart size \n",
    "    plt.imshow(weights, cmap='gray') # convert the 2D list to an image\n",
    "    plt.show() # to dispaly the map\n",
    "\n",
    "#define a function for saving the result map to a file\n",
    "def on_button_clicked(b):\n",
    "    with open(\"weighted_map.txt\", \"w\") as file:\n",
    "        for row in weights: # for each row n the map convert it to a string and write it as line in the file\n",
    "            file.write(\",\".join(map(str, row)) + \"\\n\")\n",
    "\n",
    "# save weights once the button is clicked\n",
    "button = Button(description='Save')  # declaring a button \n",
    "display(button)\n",
    "button.on_click(on_button_clicked)\n",
    "\n",
    "\n",
    "# defining three slider \n",
    "geo = FloatSlider(min=0.01, max=1, value=1, description='Geology:')\n",
    "trans = FloatSlider(min=0, max=1, value=0, description='Transport:')\n",
    "pop  = FloatSlider(min=0, max=1, value=0, description='Population:')\n",
    "# call the function to draw an interactive map with the values of three sliders\n",
    "interactive(update_plot, geo=geo, trans=trans, pop=pop) "
   ]
  },
  {
   "cell_type": "code",
   "execution_count": null,
   "metadata": {},
   "outputs": [],
   "source": []
  },
  {
   "cell_type": "code",
   "execution_count": null,
   "metadata": {},
   "outputs": [],
   "source": []
  }
 ],
 "metadata": {
  "kernelspec": {
   "display_name": "Python 3",
   "language": "python",
   "name": "python3"
  },
  "language_info": {
   "codemirror_mode": {
    "name": "ipython",
    "version": 3
   },
   "file_extension": ".py",
   "mimetype": "text/x-python",
   "name": "python",
   "nbconvert_exporter": "python",
   "pygments_lexer": "ipython3",
   "version": "3.7.4"
  }
 },
 "nbformat": 4,
 "nbformat_minor": 2
}
